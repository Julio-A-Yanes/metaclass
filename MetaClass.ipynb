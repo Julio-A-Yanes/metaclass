{
 "cells": [
  {
   "cell_type": "markdown",
   "metadata": {},
   "source": [
    "Central questions: can classifiers be trained using neuroimaging meta-analysis data (i.e., coordinates, modeled activation maps, etc.). \n",
    "Goals: [1] train classification using coordinates/modeled activation maps associated with various terms (e.g., calculation, saccades, theory of mind, pain) from brainmap or neurosynth, [2] validate classification accuracy using cross-validation, [3] test classification using Brainmap or Neurosynth (ie whichever wasn't used during training), [4] obtain/preprocess openneuro dataset measuring terms used in training (eg pain), test classfication accuracy using one volume (eg pain )"
   ]
  },
  {
   "cell_type": "code",
   "execution_count": null,
   "metadata": {},
   "outputs": [],
   "source": [
    "# Import libraries and packages.\n",
    "import pandas as pd\n",
    "import numpy as np\n",
    "import sklearn as skl\n",
    "import glob\n",
    "import datetime; today = datetime.date.today()\n",
    "from nimare.io import convert_sleuth_to_dataset\n",
    "from nimare.meta.cbma.kernel import ALEKernel"
   ]
  },
  {
   "cell_type": "code",
   "execution_count": null,
   "metadata": {},
   "outputs": [],
   "source": [
    "# Select directories and files structure.\n",
    "input_prefix = str(today)\n",
    "output_prefix = str(today)\n",
    "in_dir = 'constructs'\n",
    "out_dir = 'out'\n",
    "paths = glob.glob(\"constructs/*.txt\")\n",
    "print('constructs to model = {0}'.format(len(paths)))"
   ]
  },
  {
   "cell_type": "code",
   "execution_count": null,
   "metadata": {},
   "outputs": [],
   "source": [
    "# Convert coordinates to nimare dataset.\n",
    "datas = {}\n",
    "for path in paths:  \n",
    "    print(path)\n",
    "    datas[path[len(in_dir)+1:-4]] = convert_sleuth_to_dataset(path)"
   ]
  },
  {
   "cell_type": "code",
   "execution_count": null,
   "metadata": {},
   "outputs": [],
   "source": [
    "datas.keys() # Confirm construct keys."
   ]
  },
  {
   "cell_type": "code",
   "execution_count": null,
   "metadata": {},
   "outputs": [],
   "source": [
    "# Make modeled activation (MA) maps.\n",
    "print('MA maps making...\\t\\t@{0}'.format(str(datetime.datetime.now())))\n",
    "ma_maps_arrs = {}\n",
    "for data in datas.keys():\n",
    "    kern = ALEKernel()\n",
    "    ma_maps = kern.transform(datas[data]) # Compute MA maps (len = ???)\n",
    "    ma_maps_arrs[data] = []\n",
    "    for i in np.arange(0, len(ma_maps)):\n",
    "        ma_maps_arrs[data].append(np.ravel(ma_maps[i].get_data(), order='C'))\n",
    "    labels = pd.DataFrame(index=datas[data].ids)\n",
    "print('MA maps done!\\t\\t\\t@{0}'.format(str(datetime.datetime.now())))\n",
    "#print('MA maps = {0}'.format(len(ma_maps_arr)))\n",
    "#print('MA maps shape = {0}'.format(ma_maps_array.shape))"
   ]
  },
  {
   "cell_type": "code",
   "execution_count": null,
   "metadata": {},
   "outputs": [],
   "source": [
    "keys = list(datas.keys())\n",
    "dataframes = {}\n",
    "key = {}\n",
    "for i in np.arange(0,len(keys)):\n",
    "    key[keys[i]] = i\n",
    "    arr = np.asarray(ma_maps_arrs[keys[i]])\n",
    "    dataframes[i] = pd.DataFrame(arr)\n",
    "    dataframes[i]['y'] = i"
   ]
  },
  {
   "cell_type": "code",
   "execution_count": null,
   "metadata": {},
   "outputs": [],
   "source": [
    "all_data = pd.concat([dataframes[0], dataframes[1]])\n",
    "\n",
    "for i in np.arange(2,len(dataframes.keys())):\n",
    "    all_data = pd.concat([all_data, dataframes[i]])"
   ]
  },
  {
   "cell_type": "code",
   "execution_count": null,
   "metadata": {},
   "outputs": [],
   "source": [
    "all_data.to_csv('/Users/julioyanes/Dropbox/_Yanes/Github/metaclass/datas.csv')"
   ]
  }
 ],
 "metadata": {
  "kernelspec": {
   "display_name": "Python 3",
   "language": "python",
   "name": "python3"
  },
  "language_info": {
   "codemirror_mode": {
    "name": "ipython",
    "version": 3
   },
   "file_extension": ".py",
   "mimetype": "text/x-python",
   "name": "python",
   "nbconvert_exporter": "python",
   "pygments_lexer": "ipython3",
   "version": "3.7.1"
  }
 },
 "nbformat": 4,
 "nbformat_minor": 4
}
