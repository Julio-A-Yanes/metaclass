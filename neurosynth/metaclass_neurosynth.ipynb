{
 "cells": [
  {
   "cell_type": "code",
   "execution_count": 14,
   "metadata": {},
   "outputs": [
    {
     "data": {
      "text/plain": [
       "(91, 109, 91, 1)"
      ]
     },
     "execution_count": 14,
     "metadata": {},
     "output_type": "execute_result"
    }
   ],
   "source": [
    "# Select data and directories structure.\n",
    "import os\n",
    "import glob\n",
    "import numpy as np\n",
    "import pandas as pd\n",
    "import nibabel as nib\n",
    "from nibabel.testing import data_path\n",
    "file = os.path.join(nib.testing.data_path, '/Users/julioyanes/Desktop/pain.nii.gz')\n",
    "img = nib.load(file)\n",
    "img.shape"
   ]
  },
  {
   "cell_type": "code",
   "execution_count": 15,
   "metadata": {},
   "outputs": [
    {
     "name": "stdout",
     "output_type": "stream",
     "text": [
      "features = 902629\n",
      "[0. 0. 0. ... 0. 0. 0.]\n",
      "max value = 978772.6875\n"
     ]
    }
   ],
   "source": [
    "# 3-deminsional array to 1-dimensional array.\n",
    "img_array_pain = np.asarray(np.ravel(img.get_data(), order='C').T)\n",
    "print('features = {0}'.format(len(img_array_pain)))\n",
    "print(img_array_pain)\n",
    "print('max value = {0}'.format(np.amax(img_array_pain)))"
   ]
  },
  {
   "cell_type": "code",
   "execution_count": 16,
   "metadata": {},
   "outputs": [
    {
     "name": "stdout",
     "output_type": "stream",
     "text": [
      "features = 902629\n",
      "[0. 0. 0. ... 0. 0. 0.]\n",
      "max value = 1.0051732063293457\n"
     ]
    }
   ],
   "source": [
    "# Min/max scale array.\n",
    "img_array_pain_mms = np.asarray(img_array/np.amax(img_array_pain))\n",
    "print('features = {0}'.format(len(img_array_pain_mms)))\n",
    "print(img_array_pain_mms)\n",
    "print('max value = {0}'.format(np.amax(img_array_pain_mms)))"
   ]
  },
  {
   "cell_type": "code",
   "execution_count": 17,
   "metadata": {},
   "outputs": [
    {
     "name": "stdout",
     "output_type": "stream",
     "text": [
      "features = 902629\n",
      "[0. 0. 0. ... 0. 0. 0.]\n",
      "max value = 983499.625\n",
      "features = 902629\n",
      "[0. 0. 0. ... 0. 0. 0.]\n",
      "max value = 1.0003421306610107\n"
     ]
    }
   ],
   "source": [
    "file = os.path.join(nib.testing.data_path, '/Users/julioyanes/Desktop/nopain.nii.gz')\n",
    "img = nib.load(file)\n",
    "img.shape\n",
    "# 3-deminsional array to 1-dimensional array.\n",
    "img_array_nopain = np.asarray(np.ravel(img.get_data(), order='C').T)\n",
    "print('features = {0}'.format(len(img_array_nopain)))\n",
    "print(img_array_nopain)\n",
    "print('max value = {0}'.format(np.amax(img_array_nopain)))\n",
    "# Min/max scale array.\n",
    "img_array_nopain_mms = np.asarray(img_array/np.amax(img_array_nopain))\n",
    "print('features = {0}'.format(len(img_array_nopain_mms)))\n",
    "print(img_array_nopain_mms)\n",
    "print('max value = {0}'.format(np.amax(img_array_nopain_mms)))"
   ]
  },
  {
   "cell_type": "code",
   "execution_count": 21,
   "metadata": {},
   "outputs": [],
   "source": [
    "img_subtract = img_array_pain_mms - img_array_nopain_mms"
   ]
  },
  {
   "cell_type": "code",
   "execution_count": null,
   "metadata": {},
   "outputs": [],
   "source": [
    "# Transpose Array\n",
    "img_array_mms_rs = img_array_mms[np.newaxis,:]\n",
    "print('features = {0}'.format(len(img_array_mms_rs)))\n",
    "print(img_array_mms_rs)\n",
    "print('max value = {0}'.format(np.amax(img_array_mms_rs)))"
   ]
  },
  {
   "cell_type": "code",
   "execution_count": 24,
   "metadata": {},
   "outputs": [],
   "source": [
    "frame = pd.DataFrame(data=img_subtract)\n",
    "frame.to_csv ('/Users/julioyanes/Dropbox/_Yanes/Github/metaclass/openneuro/subtract.csv')"
   ]
  },
  {
   "cell_type": "code",
   "execution_count": null,
   "metadata": {},
   "outputs": [],
   "source": []
  }
 ],
 "metadata": {
  "kernelspec": {
   "display_name": "Python 3",
   "language": "python",
   "name": "python3"
  },
  "language_info": {
   "codemirror_mode": {
    "name": "ipython",
    "version": 3
   },
   "file_extension": ".py",
   "mimetype": "text/x-python",
   "name": "python",
   "nbconvert_exporter": "python",
   "pygments_lexer": "ipython3",
   "version": "3.7.1"
  }
 },
 "nbformat": 4,
 "nbformat_minor": 2
}
